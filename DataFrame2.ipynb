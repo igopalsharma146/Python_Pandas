{
 "cells": [
  {
   "cell_type": "code",
   "execution_count": 3,
   "id": "c031bea0-e526-4776-9e07-f773f298858c",
   "metadata": {},
   "outputs": [
    {
     "name": "stdout",
     "output_type": "stream",
     "text": [
      "   0\n",
      "0  2\n",
      "1  3\n",
      "2  5\n",
      "3  2\n",
      "4  5\n",
      "<class 'pandas.core.frame.DataFrame'>\n"
     ]
    }
   ],
   "source": [
    "import pandas as pd\n",
    "l1=[2,3,5,2,5]\n",
    "var=pd.DataFrame(l1)\n",
    "print(var)\n",
    "print(type(var))"
   ]
  },
  {
   "cell_type": "code",
   "execution_count": 16,
   "id": "ae7f3812-6cbb-476b-a2ef-93ff90a5fd9e",
   "metadata": {},
   "outputs": [
    {
     "name": "stdout",
     "output_type": "stream",
     "text": [
      "#creating dataframe\n",
      "   a  b  c  d  1\n",
      "0  1  1  5  5  4\n",
      "1  2  5  3  8  6\n",
      "2  3  7  5  6  8\n",
      "3  4  3  3  8  9\n",
      "4  5  7  6  9  5\n",
      "<class 'pandas.core.frame.DataFrame'>\n",
      "\n",
      "\n",
      "#getting the perticular column\n",
      "   a  1\n",
      "0  1  4\n",
      "1  2  6\n",
      "2  3  8\n",
      "3  4  9\n",
      "4  5  5\n",
      "\n",
      "\n",
      "#changing the index\n",
      "   a  1\n",
      "a  1  4\n",
      "b  2  6\n",
      "c  3  8\n",
      "d  4  9\n",
      "e  5  5\n",
      "\n",
      "\n",
      "#getting the perticular value of the index\n",
      "0    1\n",
      "1    2\n",
      "2    3\n",
      "3    4\n",
      "4    5\n",
      "Name: a, dtype: int64\n",
      "4\n"
     ]
    }
   ],
   "source": [
    "#making the dataframe of dictionary\n",
    "#here length of our data should be same if length is not same then it will be throw an error\n",
    "dic={\n",
    "    \"a\":[1,2,3,4,5],\n",
    "    \"b\":[1,5,7,3,7],\n",
    "    \"c\":[5,3,5,3,6],\n",
    "    \"d\":[5,8,6,8,9],\n",
    "      1:[4,6,8,9,5]\n",
    "    #\"e\":[5,8,6,8,9,6,4] #here length is not same so it it will be throw an error.\n",
    "}\n",
    "print(\"#creating dataframe\")\n",
    "var1=pd.DataFrame(dic)\n",
    "print(var1)\n",
    "print(type(var1))\n",
    "print(\"\\n\")\n",
    "\n",
    "#if we want to print the perticuler column then we can easily get the perticular column\n",
    "print(\"#getting the perticular column\")\n",
    "var2=pd.DataFrame(dic,columns=[\"a\",1])\n",
    "print(var2)\n",
    "print(\"\\n\")\n",
    "\n",
    "#changing the index\n",
    "print(\"#changing the index\")\n",
    "var3=pd.DataFrame(dic,columns=[\"a\",1],index=['a','b','c','d','e'])\n",
    "print(var3)\n",
    "print(\"\\n\")\n",
    "\n",
    "#getting the perticular value of the index\n",
    "print(\"#getting the perticular value of the index\")\n",
    "print(var1[\"a\"])\n",
    "print(var1[\"a\"][3])\n"
   ]
  },
  {
   "cell_type": "code",
   "execution_count": 21,
   "id": "4e551927-0379-4e5c-bc4c-f8301ddb25fd",
   "metadata": {},
   "outputs": [
    {
     "name": "stdout",
     "output_type": "stream",
     "text": [
      "   0  1  2  3\n",
      "0  3  4  5  6\n",
      "1  7  8  9  5\n",
      "<class 'pandas.core.frame.DataFrame'>\n",
      "\n",
      "\n",
      "#series wise dataframe\n",
      "   s  r\n",
      "0  1  1\n",
      "1  2  2\n",
      "2  3  3\n",
      "3  4  4\n"
     ]
    }
   ],
   "source": [
    "#row wise dataframe\n",
    "list_1=[[3,4,5,6],[7,8,9,5]]\n",
    "var4=pd.DataFrame(list_1)\n",
    "print(var4)\n",
    "print(type(var4))\n",
    "print(\"\\n\")\n",
    "\n",
    "#series wise dataframe\n",
    "print(\"#series wise dataframe\")\n",
    "sr={\"s\":pd.Series([1,2,3,4]),\"r\":pd.Series([1,2,3,4])}\n",
    "var3=pd.DataFrame(sr)\n",
    "print(var3)"
   ]
  },
  {
   "cell_type": "code",
   "execution_count": null,
   "id": "9aec9eae-9a80-4ac7-8b84-5df1fe83fdd6",
   "metadata": {},
   "outputs": [],
   "source": []
  }
 ],
 "metadata": {
  "kernelspec": {
   "display_name": "Python 3 (ipykernel)",
   "language": "python",
   "name": "python3"
  },
  "language_info": {
   "codemirror_mode": {
    "name": "ipython",
    "version": 3
   },
   "file_extension": ".py",
   "mimetype": "text/x-python",
   "name": "python",
   "nbconvert_exporter": "python",
   "pygments_lexer": "ipython3",
   "version": "3.12.2"
  }
 },
 "nbformat": 4,
 "nbformat_minor": 5
}
