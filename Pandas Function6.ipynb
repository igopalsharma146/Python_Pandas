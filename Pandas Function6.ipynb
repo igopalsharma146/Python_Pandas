{
 "cells": [
  {
   "cell_type": "code",
   "execution_count": 1,
   "id": "68cb265b-85fe-4df5-93e7-75d2a9264b26",
   "metadata": {},
   "outputs": [
    {
     "name": "stdout",
     "output_type": "stream",
     "text": [
      "#printing csv file\n",
      "    1   2   3\n",
      "0   3   5   9\n",
      "1   4  34   5\n",
      "2   5   6  23\n",
      "3  56   4   5\n",
      "4   4   6   6\n",
      "\n",
      "\n"
     ]
    }
   ],
   "source": [
    "import pandas as pd\n",
    "print(\"#printing csv file\")\n",
    "csv1=pd.read_csv(\"TestNewHeader.csv\")\n",
    "print(csv1)\n",
    "print(\"\\n\")"
   ]
  },
  {
   "cell_type": "code",
   "execution_count": 4,
   "id": "5e021a65-650d-4369-a7d7-1414c36dd29e",
   "metadata": {},
   "outputs": [
    {
     "name": "stdout",
     "output_type": "stream",
     "text": [
      "#getting total index\n",
      "RangeIndex(start=0, stop=5, step=1)\n",
      "\n",
      "\n",
      "#getting total column name\n",
      "Index(['1', '2', '3'], dtype='object')\n",
      "\n",
      "\n"
     ]
    }
   ],
   "source": [
    "#getting total index\n",
    "print(\"#getting total index\")\n",
    "print(csv1.index)\n",
    "print(\"\\n\")\n",
    "\n",
    "#getting total column name\n",
    "print(\"#getting total column name\")\n",
    "print(csv1.columns)\n",
    "print(\"\\n\")\n"
   ]
  },
  {
   "cell_type": "code",
   "execution_count": 5,
   "id": "59516c24-74ba-4b0f-ab06-8698b0ba7a6c",
   "metadata": {},
   "outputs": [
    {
     "name": "stdout",
     "output_type": "stream",
     "text": [
      "#using describe method for getting mean,min value,max value\n",
      "               1          2          3\n",
      "count   5.000000   5.000000   5.000000\n",
      "mean   14.400000  11.000000   9.600000\n",
      "std    23.265855  12.884099   7.668116\n",
      "min     3.000000   4.000000   5.000000\n",
      "25%     4.000000   5.000000   5.000000\n",
      "50%     4.000000   6.000000   6.000000\n",
      "75%     5.000000   6.000000   9.000000\n",
      "max    56.000000  34.000000  23.000000\n",
      "\n",
      "\n",
      "#getting perticular row of data from top\n",
      "   1   2  3\n",
      "0  3   5  9\n",
      "1  4  34  5\n",
      "\n",
      "\n",
      "#getting perticular row of data from bottom\n",
      "    1  2  3\n",
      "3  56  4  5\n",
      "4   4  6  6\n",
      "\n",
      "\n"
     ]
    }
   ],
   "source": [
    "#using describe method for getting mean,min value,max value\n",
    "print(\"#using describe method for getting mean,min value,max value\")\n",
    "print(csv1.describe())\n",
    "print(\"\\n\")\n",
    "\n",
    "#getting perticular row of data from top\n",
    "print(\"#getting perticular row of data from top\")\n",
    "print(csv1.head(2))\n",
    "print(\"\\n\")\n",
    "\n",
    "#getting perticular row of data from bottom\n",
    "print(\"#getting perticular row of data from bottom\")\n",
    "print(csv1.tail(2))\n",
    "print(\"\\n\")\n"
   ]
  },
  {
   "cell_type": "code",
   "execution_count": 11,
   "id": "1dba1de9-f6f4-40e0-b20c-22c6f221ab69",
   "metadata": {},
   "outputs": [
    {
     "name": "stdout",
     "output_type": "stream",
     "text": [
      "#here we can also use the string slicing\n",
      "   1   2   3\n",
      "0  3   5   9\n",
      "1  4  34   5\n",
      "2  5   6  23\n",
      "\n",
      "\n",
      "    1  2   3\n",
      "2   5  6  23\n",
      "3  56  4   5\n",
      "\n",
      "\n"
     ]
    }
   ],
   "source": [
    "#here we can also use the string slicing\n",
    "print(\"#here we can also use the string slicing\")\n",
    "print(csv1[:3])\n",
    "print(\"\\n\")\n",
    "print(csv1[2:4])\n",
    "print(\"\\n\")\n"
   ]
  },
  {
   "cell_type": "code",
   "execution_count": 12,
   "id": "2f2004b3-56a7-408c-991a-83f946e22ee8",
   "metadata": {},
   "outputs": [
    {
     "name": "stdout",
     "output_type": "stream",
     "text": [
      "#converting the index into array\n",
      "<NumpyExtensionArray>\n",
      "[0, 1, 2, 3, 4]\n",
      "Length: 5, dtype: int64\n",
      "\n",
      "\n",
      "#converting the hole data into array with the help of numpy array.\n",
      "[[ 3  5  9]\n",
      " [ 4 34  5]\n",
      " [ 5  6 23]\n",
      " [56  4  5]\n",
      " [ 4  6  6]]\n",
      "\n",
      "\n",
      "#converting the hole data into array with the help of other method.\n",
      "[[ 3  5  9]\n",
      " [ 4 34  5]\n",
      " [ 5  6 23]\n",
      " [56  4  5]\n",
      " [ 4  6  6]]\n",
      "\n",
      "\n"
     ]
    }
   ],
   "source": [
    "#converting the index into array\n",
    "print(\"#converting the index into array\")\n",
    "print(csv1.index.array)\n",
    "print(\"\\n\")\n",
    "\n",
    "#converting the hole data into array with the help of numpy array.\n",
    "print(\"#converting the hole data into array with the help of numpy array.\")\n",
    "print(csv1.to_numpy())\n",
    "print(\"\\n\")\n",
    "\n",
    "#converting the hole data into array with the help of other method.\n",
    "print(\"#converting the hole data into array with the help of other method.\")\n",
    "import numpy as np\n",
    "v=np.asarray(csv1)\n",
    "print(v)\n",
    "print(\"\\n\")\n"
   ]
  },
  {
   "cell_type": "code",
   "execution_count": 13,
   "id": "43134d59-5209-486b-9768-12a5fefdcabb",
   "metadata": {},
   "outputs": [
    {
     "name": "stdout",
     "output_type": "stream",
     "text": [
      "#printing ascending order to descending order\n",
      "    1   2   3\n",
      "4   4   6   6\n",
      "3  56   4   5\n",
      "2   5   6  23\n",
      "1   4  34   5\n",
      "0   3   5   9\n",
      "\n",
      "\n"
     ]
    }
   ],
   "source": [
    "#printing ascending order to descending order\n",
    "print(\"#printing ascending order to descending order\")\n",
    "var=csv1.sort_index(axis=0,ascending=False)\n",
    "print(var)\n",
    "print(\"\\n\")"
   ]
  },
  {
   "cell_type": "code",
   "execution_count": 14,
   "id": "5c09ed84-3991-4e20-b876-d37a383da267",
   "metadata": {},
   "outputs": [
    {
     "name": "stdout",
     "output_type": "stream",
     "text": [
      "#changing the data into csv file\n",
      "    1   2   3\n",
      "0  25   5   9\n",
      "1   4  34   5\n",
      "2   5   6  23\n",
      "3  56   4   5\n",
      "4   4   6   6\n",
      "\n",
      "\n",
      "#changing the data into csv file other method\n",
      "    1       2   3\n",
      "0  25  python   9\n",
      "1   4      34   5\n",
      "2   5       6  23\n",
      "3  56       4   5\n",
      "4   4       6   6\n",
      "\n",
      "\n"
     ]
    },
    {
     "name": "stderr",
     "output_type": "stream",
     "text": [
      "C:\\Users\\Gopal Sharma\\AppData\\Local\\Temp\\ipykernel_13744\\2898690102.py:3: FutureWarning: ChainedAssignmentError: behaviour will change in pandas 3.0!\n",
      "You are setting values through chained assignment. Currently this works in certain cases, but when using Copy-on-Write (which will become the default behaviour in pandas 3.0) this will never work to update the original DataFrame or Series, because the intermediate object on which we are setting values will behave as a copy.\n",
      "A typical example is when you are setting values in a column of a DataFrame, like:\n",
      "\n",
      "df[\"col\"][row_indexer] = value\n",
      "\n",
      "Use `df.loc[row_indexer, \"col\"] = values` instead, to perform the assignment in a single step and ensure this keeps updating the original `df`.\n",
      "\n",
      "See the caveats in the documentation: https://pandas.pydata.org/pandas-docs/stable/user_guide/indexing.html#returning-a-view-versus-a-copy\n",
      "\n",
      "  csv1[\"1\"][0]=25\n",
      "C:\\Users\\Gopal Sharma\\AppData\\Local\\Temp\\ipykernel_13744\\2898690102.py:9: FutureWarning: Setting an item of incompatible dtype is deprecated and will raise an error in a future version of pandas. Value 'python' has dtype incompatible with int64, please explicitly cast to a compatible dtype first.\n",
      "  csv1.loc[0,\"2\"]=\"python\"\n"
     ]
    }
   ],
   "source": [
    "#changing the data into csv file\n",
    "print(\"#changing the data into csv file\")\n",
    "csv1[\"1\"][0]=25\n",
    "print(csv1)\n",
    "print(\"\\n\")\n",
    "\n",
    "#changing the data into csv file other method\n",
    "print(\"#changing the data into csv file other method\")\n",
    "csv1.loc[0,\"2\"]=\"python\"\n",
    "print(csv1)\n",
    "print(\"\\n\")\n"
   ]
  },
  {
   "cell_type": "code",
   "execution_count": 17,
   "id": "f4946a19-8bfc-45a5-a5e9-267f308a3cb3",
   "metadata": {},
   "outputs": [
    {
     "name": "stdout",
     "output_type": "stream",
     "text": [
      "#other use of loc function in pandas that loc function ki help se hum perticular row and perticular column ki value ko get kar sakte hai.\n",
      "   2  3\n",
      "3  4  5\n",
      "4  6  6\n",
      "\n",
      "\n"
     ]
    }
   ],
   "source": [
    "#other use of loc function in pandas that loc function ki help se hum perticular row and perticular column ki value ko get kar sakte hai.\n",
    "print(\"#other use of loc function in pandas that loc function ki help se hum perticular row and perticular column ki value ko get kar sakte hai.\")\n",
    "#print(csv1)\n",
    "var=csv1.loc[[3,4],[\"2\",\"3\"]]\n",
    "print(var)\n",
    "print(\"\\n\")"
   ]
  },
  {
   "cell_type": "code",
   "execution_count": 5,
   "id": "df9141f2-5669-494f-9d73-cd1f51991f8a",
   "metadata": {},
   "outputs": [
    {
     "name": "stdout",
     "output_type": "stream",
     "text": [
      "#getting complete data of row and column\n",
      "    2   3\n",
      "0   5   9\n",
      "1  34   5\n",
      "2   6  23\n",
      "3   4   5\n",
      "4   6   6\n",
      "\n",
      "\n",
      "    1  2  3\n",
      "3  56  4  5\n",
      "4   4  6  6\n",
      "\n",
      "\n",
      "#iloc function , iloc function gives the perticular data\n",
      "csv1.iloc[1,0]= 4\n",
      "csv1.iloc[1,1]= 34\n",
      "csv1.iloc[3,2]= 5\n",
      "\n",
      "\n",
      "    1  2  3\n",
      "3  56  4  5\n",
      "4   4  6  6\n",
      "\n",
      "\n",
      "[[56  4  5]\n",
      " [ 4  6  6]]\n",
      "\n",
      "\n"
     ]
    }
   ],
   "source": [
    "\n",
    "#getting complete data of row and column\n",
    "print(\"#getting complete data of row and column\")\n",
    "var=csv1.loc[:,[\"2\",\"3\"]]\n",
    "print(var)\n",
    "print(\"\\n\")\n",
    "var=csv1.loc[[3,4],:]\n",
    "print(var)\n",
    "print(\"\\n\")\n",
    "\n",
    "print(\"#iloc function , iloc function gives the perticular data\")\n",
    "#iloc function , iloc function gives the perticular data\n",
    "print(\"csv1.iloc[1,0]=\",csv1.iloc[1,0])\n",
    "print(\"csv1.iloc[1,1]=\",csv1.iloc[1,1])\n",
    "print(\"csv1.iloc[3,2]=\",csv1.iloc[3,2])\n",
    "print(\"\\n\")\n",
    "\n",
    "var=csv1.iloc[[3,4],:]\n",
    "print(var)\n",
    "print(\"\\n\")\n",
    "\n",
    "var=csv1.iloc[[3,4],:].values\n",
    "print(var)\n",
    "print(\"\\n\")"
   ]
  },
  {
   "cell_type": "code",
   "execution_count": 25,
   "id": "7e5f7043-58d9-4f09-a2ab-cde50b684812",
   "metadata": {},
   "outputs": [
    {
     "name": "stdout",
     "output_type": "stream",
     "text": [
      "#drop method , drop method se hum kisi bhi column or row ko drop kar sakte hai.\n",
      "        2   3\n",
      "0  python   9\n",
      "1      34   5\n",
      "2       6  23\n",
      "3       4   5\n",
      "4       6   6\n",
      "\n",
      "\n",
      "    1       2   3\n",
      "0  25  python   9\n",
      "1   4      34   5\n",
      "2   5       6  23\n",
      "3  56       4   5\n",
      "\n",
      "\n"
     ]
    }
   ],
   "source": [
    "print(\"#drop method , drop method se hum kisi bhi column or row ko drop kar sakte hai.\")\n",
    "#drop method , drop method se hum kisi bhi column or row ko drop kar sakte hai.\n",
    "#Note:column ko delete karne ke liye axis=1 likhte hai or row ko delete karne ke liye axis=0 likhate hai.\n",
    "print(csv1.drop(\"1\",axis=1))\n",
    "print(\"\\n\")\n",
    "print(csv1.drop(4,axis=0))\n",
    "print(\"\\n\")"
   ]
  },
  {
   "cell_type": "code",
   "execution_count": null,
   "id": "e08bce1a-6e11-4af5-ac00-d9dc7a87d5f5",
   "metadata": {},
   "outputs": [],
   "source": []
  }
 ],
 "metadata": {
  "kernelspec": {
   "display_name": "Python 3 (ipykernel)",
   "language": "python",
   "name": "python3"
  },
  "language_info": {
   "codemirror_mode": {
    "name": "ipython",
    "version": 3
   },
   "file_extension": ".py",
   "mimetype": "text/x-python",
   "name": "python",
   "nbconvert_exporter": "python",
   "pygments_lexer": "ipython3",
   "version": "3.12.2"
  },
  "widgets": {
   "application/vnd.jupyter.widget-state+json": {
    "state": {},
    "version_major": 2,
    "version_minor": 0
   }
  }
 },
 "nbformat": 4,
 "nbformat_minor": 5
}
