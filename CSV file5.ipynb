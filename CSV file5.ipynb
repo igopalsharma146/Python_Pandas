{
 "cells": [
  {
   "cell_type": "code",
   "execution_count": 1,
   "id": "b43f5369-95db-4dc8-a5e9-0cc8c0f9cdb4",
   "metadata": {},
   "outputs": [
    {
     "name": "stdout",
     "output_type": "stream",
     "text": [
      "    a   s   d\n",
      "0   3   5   9\n",
      "1   4  34   5\n",
      "2   5   6  23\n",
      "3  56   4   5\n",
      "4   4   6   6\n"
     ]
    }
   ],
   "source": [
    "#making the csv file\n",
    "import pandas as pd\n",
    "dis={\"a\":[3,4,5,56,4],\"s\":[5,34,6,4,6],\"d\":[9,5,23,5,6]}\n",
    "d=pd.DataFrame(dis)\n",
    "print(d)\n",
    "\n",
    "#creating csv file \n",
    "#here index false mean we are not printing the value of the index.\n",
    "d.to_csv(\"Test.csv\",index=False)\n",
    "\n",
    "#changing the header\n",
    "d.to_csv(\"TestNewHeader.csv\",index=False,header=[1,2,3])\n"
   ]
  },
  {
   "cell_type": "code",
   "execution_count": 5,
   "id": "433c0151-c13d-47a8-99eb-f698f0e8dbfa",
   "metadata": {},
   "outputs": [
    {
     "name": "stdout",
     "output_type": "stream",
     "text": [
      "    1   2   3\n",
      "0   3   5   9\n",
      "1   4  34   5\n",
      "2   5   6  23\n",
      "3  56   4   5\n",
      "4   4   6   6\n",
      "\n",
      "\n",
      "   1  2  3\n",
      "0  3  5  9\n",
      "<class 'pandas.core.frame.DataFrame'>\n",
      "   1   2   3\n",
      "0  3   5   9\n",
      "1  4  34   5\n",
      "2  5   6  23\n",
      "\n",
      "\n"
     ]
    }
   ],
   "source": [
    "# read csvFile\n",
    "#Note:hame csv file ko read karate time,iske path me double slace lagane hai. kabhi kabhi yah single slace me csv file ko read nahi kar pata hai.\n",
    "# to hame error deta hai.\n",
    "import pandas as pd\n",
    "csv1=pd.read_csv(\"TestNewHeader.csv\")\n",
    "print(csv1)\n",
    "print(\"\\n\")\n",
    "\n",
    "#getting perticular row.\n",
    "csv2=pd.read_csv(\"TestNewHeader.csv\",nrows=1)\n",
    "print(csv2)\n",
    "print(type(csv2))\n",
    "csv2=pd.read_csv(\"TestNewHeader.csv\",nrows=3)\n",
    "print(csv2)\n",
    "print(\"\\n\")"
   ]
  },
  {
   "cell_type": "code",
   "execution_count": 7,
   "id": "b4fd907a-378f-40d3-bb0d-edd605763826",
   "metadata": {},
   "outputs": [
    {
     "name": "stdout",
     "output_type": "stream",
     "text": [
      "    1\n",
      "0   3\n",
      "1   4\n",
      "2   5\n",
      "3  56\n",
      "4   4\n",
      "<class 'pandas.core.frame.DataFrame'>\n",
      "    2   3\n",
      "0   5   9\n",
      "1  34   5\n",
      "2   6  23\n",
      "3   4   5\n",
      "4   6   6\n",
      "\n",
      "\n",
      "    1   2   3\n",
      "0   3   5   9\n",
      "1   4  34   5\n",
      "2   5   6  23\n",
      "3  56   4   5\n",
      "4   4   6   6\n",
      "<class 'pandas.core.frame.DataFrame'>\n",
      "\n",
      "\n"
     ]
    }
   ],
   "source": [
    "#getting perticular column.\n",
    "#Note:hame yaha per column ke name as a string dene hai.ya fir column ko get karne ke liye,First cloumn ko 0 manna padega. like 0,1,2,3,4.......\n",
    "csv3=pd.read_csv(\"TestNewHeader.csv\",usecols=[\"1\"])\n",
    "print(csv3)\n",
    "print(type(csv3))\n",
    "csv4=pd.read_csv(\"TestNewHeader.csv\",usecols=[\"2\",\"3\"])\n",
    "print(csv4)\n",
    "print(\"\\n\")\n",
    "csv5=pd.read_csv(\"TestNewHeader.csv\",usecols=[0,1,2])\n",
    "print(csv5)\n",
    "print(type(csv5))\n",
    "print(\"\\n\")"
   ]
  },
  {
   "cell_type": "code",
   "execution_count": 13,
   "id": "872b7ad4-c5ed-480e-be87-665862b1d1b8",
   "metadata": {},
   "outputs": [
    {
     "name": "stdout",
     "output_type": "stream",
     "text": [
      "    1   2   3\n",
      "0   4  34   5\n",
      "1   5   6  23\n",
      "2  56   4   5\n",
      "3   4   6   6\n",
      "<class 'pandas.core.frame.DataFrame'>\n",
      "    3  5   9\n",
      "0   5  6  23\n",
      "1  56  4   5\n",
      "2   4  6   6\n",
      "\n",
      "\n"
     ]
    }
   ],
   "source": [
    "#doing the skip of row\n",
    "csv6=pd.read_csv(\"TestNewHeader.csv\",skiprows=[1])\n",
    "print(csv6)\n",
    "print(type(csv6))\n",
    "csv7=pd.read_csv(\"TestNewHeader.csv\",skiprows=[0,2])\n",
    "print(csv7)\n",
    "print(\"\\n\")\n"
   ]
  },
  {
   "cell_type": "code",
   "execution_count": 9,
   "id": "05a31048-afbf-486f-a25a-3735c8e0beff",
   "metadata": {},
   "outputs": [
    {
     "name": "stdout",
     "output_type": "stream",
     "text": [
      "     2   3\n",
      "1         \n",
      "3    5   9\n",
      "4   34   5\n",
      "5    6  23\n",
      "56   4   5\n",
      "4    6   6\n",
      "<class 'pandas.core.frame.DataFrame'>\n",
      "\n",
      "\n"
     ]
    }
   ],
   "source": [
    "#index call:making the index of any column\n",
    "var=pd.read_csv(\"TestNewHeader.csv\",index_col=\"1\")\n",
    "print(var)\n",
    "print(type(var))\n",
    "print(\"\\n\")"
   ]
  },
  {
   "cell_type": "code",
   "execution_count": 11,
   "id": "6208e788-afaf-4f64-91e5-4ab1bbb21376",
   "metadata": {},
   "outputs": [
    {
     "name": "stdout",
     "output_type": "stream",
     "text": [
      "    3   5   9\n",
      "0   4  34   5\n",
      "1   5   6  23\n",
      "2  56   4   5\n",
      "3   4   6   6\n",
      "<class 'pandas.core.frame.DataFrame'>\n",
      "    5  6  23\n",
      "0  56  4   5\n",
      "1   4  6   6\n",
      "\n",
      "\n"
     ]
    }
   ],
   "source": [
    "#making the header of any row\n",
    "var1=pd.read_csv(\"TestNewHeader.csv\",header=1)\n",
    "print(var1)\n",
    "print(type(var1))\n",
    "var2=pd.read_csv(\"TestNewHeader.csv\",header=3)\n",
    "print(var2)\n",
    "print(\"\\n\")\n"
   ]
  },
  {
   "cell_type": "code",
   "execution_count": 15,
   "id": "82793819-aa80-49a8-bfb6-e26d2b3daabc",
   "metadata": {},
   "outputs": [
    {
     "name": "stdout",
     "output_type": "stream",
     "text": [
      "    A   B   C\n",
      "0   1   2   3\n",
      "1   3   5   9\n",
      "2   4  34   5\n",
      "3   5   6  23\n",
      "4  56   4   5\n",
      "5   4   6   6\n",
      "<class 'pandas.core.frame.DataFrame'>\n",
      "\n",
      "\n"
     ]
    }
   ],
   "source": [
    "#making the column heading\n",
    "var3=pd.read_csv(\"TestNewHeader.csv\",names=[\"A\",\"B\",\"C\"])\n",
    "print(var3)\n",
    "print(type(var3))\n",
    "print(\"\\n\")\n"
   ]
  },
  {
   "cell_type": "code",
   "execution_count": 20,
   "id": "5e20a858-55cc-4f94-8d03-55669fdd3f6f",
   "metadata": {},
   "outputs": [
    {
     "name": "stdout",
     "output_type": "stream",
     "text": [
      "    0   1   2\n",
      "0   1   2   3\n",
      "1   3   5   9\n",
      "2   4  34   5\n",
      "3   5   6  23\n",
      "4  56   4   5\n",
      "5   4   6   6\n",
      "\n",
      "\n"
     ]
    }
   ],
   "source": [
    "#suppose that agar hamari main heading delete ho jaye to waha automatic new heading ban jaati hai.but hum usse heading nahi banana chahte hai .\n",
    "#In these situation we can use the prifix method.\n",
    "# var4=pd.read_csv(\"TestNewHeader.csv\",header=None , prefix=\"col\")\n",
    "# print(var4)\n",
    "# print(\"\\n\")\n"
   ]
  },
  {
   "cell_type": "code",
   "execution_count": 18,
   "id": "1c04804b-6391-4774-8c2b-75ebea17a07e",
   "metadata": {},
   "outputs": [
    {
     "name": "stdout",
     "output_type": "stream",
     "text": [
      "    1     2   3\n",
      "0   3   5.0   9\n",
      "1   4  34.0   5\n",
      "2   5   6.0  23\n",
      "3  56   4.0   5\n",
      "4   4   6.0   6\n",
      "\n",
      "\n",
      "    1   2     3\n",
      "0   3   5   9.0\n",
      "1   4  34   5.0\n",
      "2   5   6  23.0\n",
      "3  56   4   5.0\n",
      "4   4   6   6.0\n",
      "\n",
      "\n"
     ]
    }
   ],
   "source": [
    "#changing the datatype of any column\n",
    "#when we are passing the column name then we should be write the column name inside the string.\n",
    "csv1=pd.read_csv(\"TestNewHeader.csv\",dtype={\"2\":\"float\"})\n",
    "print(csv1)\n",
    "print(\"\\n\")\n",
    "#Note:here column start with 0,1,2.........\n",
    "csv1=pd.read_csv(\"TestNewHeader.csv\",dtype={2:\"float\"})\n",
    "print(csv1)\n",
    "print(\"\\n\")"
   ]
  },
  {
   "cell_type": "code",
   "execution_count": null,
   "id": "4ce56aa9-9a9f-4091-87ec-8a7200c8dc6e",
   "metadata": {},
   "outputs": [],
   "source": []
  }
 ],
 "metadata": {
  "kernelspec": {
   "display_name": "Python 3 (ipykernel)",
   "language": "python",
   "name": "python3"
  },
  "language_info": {
   "codemirror_mode": {
    "name": "ipython",
    "version": 3
   },
   "file_extension": ".py",
   "mimetype": "text/x-python",
   "name": "python",
   "nbconvert_exporter": "python",
   "pygments_lexer": "ipython3",
   "version": "3.12.2"
  },
  "widgets": {
   "application/vnd.jupyter.widget-state+json": {
    "state": {},
    "version_major": 2,
    "version_minor": 0
   }
  }
 },
 "nbformat": 4,
 "nbformat_minor": 5
}
