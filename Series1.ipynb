{
 "cells": [
  {
   "cell_type": "code",
   "execution_count": 2,
   "id": "7458da9e-80fb-4621-ac24-26e8059e5055",
   "metadata": {},
   "outputs": [
    {
     "name": "stdout",
     "output_type": "stream",
     "text": [
      "0     4\n",
      "1    56\n",
      "2    84\n",
      "3    33\n",
      "4     5\n",
      "5     7\n",
      "dtype: int64\n",
      "<class 'pandas.core.series.Series'>\n",
      "84\n"
     ]
    }
   ],
   "source": [
    "import pandas as pd\n",
    "X=[4,56,84,33,5,7]\n",
    "var=pd.Series(X)\n",
    "print(var)\n",
    "print(type(var))\n",
    "\n",
    "#getting the data throught index number\n",
    "print(var[2])"
   ]
  },
  {
   "cell_type": "code",
   "execution_count": 15,
   "id": "190aa058-f4cc-43d3-94d7-e59ab6ab2ba2",
   "metadata": {},
   "outputs": [
    {
     "name": "stdout",
     "output_type": "stream",
     "text": [
      "length= 5\n",
      "a    5\n",
      "b    7\n",
      "c    8\n",
      "d    4\n",
      "e    7\n",
      "dtype: int64\n",
      "\n",
      "\n",
      "a    5.0\n",
      "b    7.0\n",
      "c    8.0\n",
      "d    4.0\n",
      "e    7.0\n",
      "dtype: float64\n",
      "\n",
      "\n",
      "a    5.0\n",
      "b    7.0\n",
      "c    8.0\n",
      "d    4.0\n",
      "e    7.0\n",
      "Name: Pyhton, dtype: float64\n",
      "\n",
      "\n"
     ]
    }
   ],
   "source": [
    "import pandas as pd\n",
    "X=[5,7,8,4,7]\n",
    "\n",
    "#changing the value of index \n",
    "var=pd.Series(X,index=['a','b','c','d','e'])\n",
    "\n",
    "#note :here the value of index shoud be equal the our data\n",
    "index=print(\"length=\",len(X))\n",
    "print(var)\n",
    "print(\"\\n\")\n",
    "\n",
    "#we can also change the type of our data\n",
    "var1=pd.Series(X,index=['a','b','c','d','e'],dtype=\"float\")\n",
    "print(var1)\n",
    "print(\"\\n\")\n",
    "\n",
    "#we can give the name of our data\n",
    "var1=pd.Series(X,index=['a','b','c','d','e'],dtype=\"float\",name=\"Pyhton\")\n",
    "print(var1)\n",
    "print(\"\\n\")\n"
   ]
  },
  {
   "cell_type": "code",
   "execution_count": 17,
   "id": "a52c466b-4d42-4302-bf16-e1cd25d064f3",
   "metadata": {},
   "outputs": [
    {
     "name": "stdout",
     "output_type": "stream",
     "text": [
      "name    [pyhton, c++, java, c]\n",
      "por           [12, 13, 14, 15]\n",
      "rank              [1, 4, 3, 2]\n",
      "dtype: object\n"
     ]
    }
   ],
   "source": [
    "#printing the series of dictionary\n",
    "dic={\n",
    "    \"name\":['pyhton','c++','java','c'],\n",
    "    \"por\":[12,13,14,15],\n",
    "    \"rank\":[1,4,3,2]\n",
    "}\n",
    "var2=pd.Series(dic)\n",
    "print(var2)"
   ]
  },
  {
   "cell_type": "code",
   "execution_count": 21,
   "id": "3c7048ac-21eb-47b2-9546-2f7eb03c5e28",
   "metadata": {},
   "outputs": [
    {
     "name": "stdout",
     "output_type": "stream",
     "text": [
      "0    12\n",
      "dtype: int64\n",
      "<class 'pandas.core.series.Series'>\n",
      "\n",
      "\n",
      "1      12\n",
      "2      12\n",
      "3      12\n",
      "4      12\n",
      "6      12\n",
      "7      12\n",
      "a      12\n",
      "b      12\n",
      "2.3    12\n",
      "dtype: int64\n",
      "\n",
      "\n"
     ]
    }
   ],
   "source": [
    "#making series with single data\n",
    "s=pd.Series(12)\n",
    "print(s)\n",
    "print(type(s))\n",
    "print(\"\\n\")\n",
    "\n",
    "#if we want to make many series with the help of single data\n",
    "s1=pd.Series(12,index=[1,2,3,4,6,7,'a','b',2.3])\n",
    "print(s1)\n",
    "print(\"\\n\")"
   ]
  },
  {
   "cell_type": "code",
   "execution_count": 3,
   "id": "3891ffca-cca1-4925-a4bb-16fa367ad6a0",
   "metadata": {},
   "outputs": [
    {
     "name": "stdout",
     "output_type": "stream",
     "text": [
      "1      14.0\n",
      "2      14.0\n",
      "2.3     NaN\n",
      "3      14.0\n",
      "4      14.0\n",
      "6      14.0\n",
      "7      14.0\n",
      "8       NaN\n",
      "9       NaN\n",
      "a      14.0\n",
      "b       NaN\n",
      "dtype: float64\n"
     ]
    }
   ],
   "source": [
    "#Addition of two matrix\n",
    "#numpy missing data ke sath work nahi karta hai but pandas missing data ke sath work karta hai, isiliye hum pandas ka use karte hai.\n",
    "add1=pd.Series(12,index=[1,2,3,4,6,7,'a','b',2.3,8,9])\n",
    "add2=pd.Series(2,index=[1,2,3,4,6,7,'a'])\n",
    "print(add1+add2)"
   ]
  },
  {
   "cell_type": "code",
   "execution_count": null,
   "id": "dee6187a-84d9-4a99-86a2-b12934070ac4",
   "metadata": {},
   "outputs": [],
   "source": []
  }
 ],
 "metadata": {
  "kernelspec": {
   "display_name": "Python 3 (ipykernel)",
   "language": "python",
   "name": "python3"
  },
  "language_info": {
   "codemirror_mode": {
    "name": "ipython",
    "version": 3
   },
   "file_extension": ".py",
   "mimetype": "text/x-python",
   "name": "python",
   "nbconvert_exporter": "python",
   "pygments_lexer": "ipython3",
   "version": "3.12.2"
  },
  "widgets": {
   "application/vnd.jupyter.widget-state+json": {
    "state": {},
    "version_major": 2,
    "version_minor": 0
   }
  }
 },
 "nbformat": 4,
 "nbformat_minor": 5
}
