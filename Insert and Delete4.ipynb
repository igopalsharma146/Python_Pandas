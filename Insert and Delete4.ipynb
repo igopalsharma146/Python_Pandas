{
 "cells": [
  {
   "cell_type": "code",
   "execution_count": 5,
   "id": "3f92ec53-d8bc-469c-b256-314ce0be919f",
   "metadata": {},
   "outputs": [
    {
     "name": "stdout",
     "output_type": "stream",
     "text": [
      "   A  B\n",
      "0  1  9\n",
      "1  2  7\n",
      "2  3  5\n",
      "3  4  4\n",
      "4  5  6\n",
      "\n",
      "\n",
      "   A  Python  B\n",
      "0  1       1  9\n",
      "1  2       2  7\n",
      "2  3       3  5\n",
      "3  4       4  4\n",
      "4  5       5  6\n",
      "\n",
      "\n"
     ]
    }
   ],
   "source": [
    "import pandas as pd\n",
    "\n",
    "var=pd.DataFrame({\"A\":[1,2,3,4,5],\"B\":[9,7,5,4,6]})\n",
    "print(var)\n",
    "print(\"\\n\")\n",
    "\n",
    "#adding new column\n",
    "#variableName.insert(indexNumber,columnName,DataThatWeWantToInsert)\n",
    "var.insert(1,\"Python\",var[\"A\"])\n",
    "print(var)\n",
    "print(\"\\n\")\n",
    "\n",
    "#Note:When we are inserting the data, then data should be equal of previous data.Or column name should be same. For Example...\n",
    "# var.insert(1,\"Python\",[4,5,3,6)  #this will be throw an error , because data is not equal.\n",
    "# print(var)\n",
    "# print(\"\\n\")\n"
   ]
  },
  {
   "cell_type": "code",
   "execution_count": 6,
   "id": "c124075c-599e-43c3-8438-e6ee53f1665d",
   "metadata": {},
   "outputs": [
    {
     "name": "stdout",
     "output_type": "stream",
     "text": [
      "   A  Python  B  Python_1\n",
      "0  1       1  9         4\n",
      "1  2       2  7         5\n",
      "2  3       3  5         3\n",
      "3  4       4  4         9\n",
      "4  5       5  6         6\n",
      "\n",
      "\n",
      "   A  Python  B  Python_1  python_copy\n",
      "0  1       1  9         4          1.0\n",
      "1  2       2  7         5          2.0\n",
      "2  3       3  5         3          3.0\n",
      "3  4       4  4         9          NaN\n",
      "4  5       5  6         6          NaN\n",
      "\n",
      "\n"
     ]
    }
   ],
   "source": [
    "var.insert(3,\"Python_1\",[4,5,3,9,6])\n",
    "print(var)\n",
    "print(\"\\n\")\n",
    "\n",
    "#doing copy\n",
    "#here we can use the slicing method for doing copy no.of rows.\n",
    "var[\"python_copy\"]=var[\"A\"][:3]\n",
    "print(var)\n",
    "print(\"\\n\")\n"
   ]
  },
  {
   "cell_type": "code",
   "execution_count": 7,
   "id": "caa76fcb-e61e-4900-8fa6-009a8635b73e",
   "metadata": {},
   "outputs": [
    {
     "name": "stdout",
     "output_type": "stream",
     "text": [
      "#deleted data.\n",
      "0    4\n",
      "1    5\n",
      "2    3\n",
      "3    9\n",
      "4    6\n",
      "Name: Python_1, dtype: int64 \n",
      "\n",
      "   A  Python  B  python_copy\n",
      "0  1       1  9          1.0\n",
      "1  2       2  7          2.0\n",
      "2  3       3  5          3.0\n",
      "3  4       4  4          NaN\n",
      "4  5       5  6          NaN\n",
      "\n",
      "\n",
      "   A  B  python_copy\n",
      "0  1  9          1.0\n",
      "1  2  7          2.0\n",
      "2  3  5          3.0\n",
      "3  4  4          NaN\n",
      "4  5  6          NaN\n"
     ]
    }
   ],
   "source": [
    "#DELETE(pop method and del method)\n",
    "#pop method\n",
    "var1=var.pop(\"Python_1\")\n",
    "print(\"#deleted data.\")\n",
    "print(var1,\"\\n\")\n",
    "print(var)\n",
    "print(\"\\n\")\n",
    "\n",
    "#del method\n",
    "del var[\"Python\"]\n",
    "print(var)\n"
   ]
  },
  {
   "cell_type": "code",
   "execution_count": null,
   "id": "a59587f8-c30e-4638-ad08-88456fd9d079",
   "metadata": {},
   "outputs": [],
   "source": []
  }
 ],
 "metadata": {
  "kernelspec": {
   "display_name": "Python 3 (ipykernel)",
   "language": "python",
   "name": "python3"
  },
  "language_info": {
   "codemirror_mode": {
    "name": "ipython",
    "version": 3
   },
   "file_extension": ".py",
   "mimetype": "text/x-python",
   "name": "python",
   "nbconvert_exporter": "python",
   "pygments_lexer": "ipython3",
   "version": "3.12.2"
  },
  "widgets": {
   "application/vnd.jupyter.widget-state+json": {
    "state": {},
    "version_major": 2,
    "version_minor": 0
   }
  }
 },
 "nbformat": 4,
 "nbformat_minor": 5
}
